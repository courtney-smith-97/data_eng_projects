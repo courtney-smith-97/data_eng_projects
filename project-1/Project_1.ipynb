{
 "cells": [
  {
   "cell_type": "code",
   "execution_count": 38,
   "metadata": {},
   "outputs": [],
   "source": [
    "import pandas as pd\n",
    "import matplotlib.pyplot as plt\n",
    "import numpy as np"
   ]
  },
  {
   "cell_type": "markdown",
   "metadata": {},
   "source": [
    "### What are the five most popular commuter trips?"
   ]
  },
  {
   "cell_type": "markdown",
   "metadata": {},
   "source": [
    "I defined commuter trips as trips with different starting and ending stations that take place between 7:30-9:30am or 4:30-6:30pm."
   ]
  },
  {
   "cell_type": "code",
   "execution_count": 58,
   "metadata": {},
   "outputs": [
    {
     "name": "stderr",
     "output_type": "stream",
     "text": [
      "Query complete after 0.00s: 100%|██████████| 1/1 [00:00<00:00, 387.72query/s] \n",
      "Downloading: 100%|██████████| 5/5 [00:01<00:00,  2.53rows/s]\n"
     ]
    }
   ],
   "source": [
    "%%bigquery df_trips\n",
    "\n",
    "select \n",
    "start_station_name\n",
    ", end_station_name\n",
    ", count(*) as trip_freq\n",
    "from `bigquery-public-data.san_francisco.bikeshare_trips`\n",
    "where (start_station_name <> end_station_name) and ((cast(start_date as time) between '07:30:00' and '09:30:00') or (cast(start_date as time) between '16:30:00' and '18:30:00'))\n",
    "group by start_station_name, end_station_name\n",
    "order by trip_freq desc\n",
    "limit 5"
   ]
  },
  {
   "cell_type": "code",
   "execution_count": 59,
   "metadata": {},
   "outputs": [
    {
     "data": {
      "text/html": [
       "<div>\n",
       "<style scoped>\n",
       "    .dataframe tbody tr th:only-of-type {\n",
       "        vertical-align: middle;\n",
       "    }\n",
       "\n",
       "    .dataframe tbody tr th {\n",
       "        vertical-align: top;\n",
       "    }\n",
       "\n",
       "    .dataframe thead th {\n",
       "        text-align: right;\n",
       "    }\n",
       "</style>\n",
       "<table border=\"1\" class=\"dataframe\">\n",
       "  <thead>\n",
       "    <tr style=\"text-align: right;\">\n",
       "      <th></th>\n",
       "      <th>start_station_name</th>\n",
       "      <th>end_station_name</th>\n",
       "      <th>trip_freq</th>\n",
       "    </tr>\n",
       "  </thead>\n",
       "  <tbody>\n",
       "    <tr>\n",
       "      <th>0</th>\n",
       "      <td>Harry Bridges Plaza (Ferry Building)</td>\n",
       "      <td>2nd at Townsend</td>\n",
       "      <td>4825</td>\n",
       "    </tr>\n",
       "    <tr>\n",
       "      <th>1</th>\n",
       "      <td>Embarcadero at Sansome</td>\n",
       "      <td>Steuart at Market</td>\n",
       "      <td>4303</td>\n",
       "    </tr>\n",
       "    <tr>\n",
       "      <th>2</th>\n",
       "      <td>2nd at Townsend</td>\n",
       "      <td>Harry Bridges Plaza (Ferry Building)</td>\n",
       "      <td>4216</td>\n",
       "    </tr>\n",
       "    <tr>\n",
       "      <th>3</th>\n",
       "      <td>San Francisco Caltrain 2 (330 Townsend)</td>\n",
       "      <td>Townsend at 7th</td>\n",
       "      <td>4161</td>\n",
       "    </tr>\n",
       "    <tr>\n",
       "      <th>4</th>\n",
       "      <td>San Francisco Caltrain (Townsend at 4th)</td>\n",
       "      <td>Harry Bridges Plaza (Ferry Building)</td>\n",
       "      <td>4002</td>\n",
       "    </tr>\n",
       "  </tbody>\n",
       "</table>\n",
       "</div>"
      ],
      "text/plain": [
       "                         start_station_name  \\\n",
       "0      Harry Bridges Plaza (Ferry Building)   \n",
       "1                    Embarcadero at Sansome   \n",
       "2                           2nd at Townsend   \n",
       "3   San Francisco Caltrain 2 (330 Townsend)   \n",
       "4  San Francisco Caltrain (Townsend at 4th)   \n",
       "\n",
       "                       end_station_name  trip_freq  \n",
       "0                       2nd at Townsend       4825  \n",
       "1                     Steuart at Market       4303  \n",
       "2  Harry Bridges Plaza (Ferry Building)       4216  \n",
       "3                       Townsend at 7th       4161  \n",
       "4  Harry Bridges Plaza (Ferry Building)       4002  "
      ]
     },
     "execution_count": 59,
     "metadata": {},
     "output_type": "execute_result"
    }
   ],
   "source": [
    "df_trips"
   ]
  },
  {
   "cell_type": "markdown",
   "metadata": {},
   "source": [
    "### New Offer Recommendations"
   ]
  },
  {
   "cell_type": "markdown",
   "metadata": {},
   "source": [
    "##### Average trip duration\n",
    "Included ride time is 30 minutes for single trips and 45 minutes for membership."
   ]
  },
  {
   "cell_type": "code",
   "execution_count": 73,
   "metadata": {},
   "outputs": [
    {
     "name": "stderr",
     "output_type": "stream",
     "text": [
      "Query complete after 0.00s: 100%|██████████| 1/1 [00:00<00:00, 428.34query/s] \n",
      "Downloading: 100%|██████████| 1/1 [00:02<00:00,  2.08s/rows]\n"
     ]
    },
    {
     "data": {
      "text/html": [
       "<div>\n",
       "<style scoped>\n",
       "    .dataframe tbody tr th:only-of-type {\n",
       "        vertical-align: middle;\n",
       "    }\n",
       "\n",
       "    .dataframe tbody tr th {\n",
       "        vertical-align: top;\n",
       "    }\n",
       "\n",
       "    .dataframe thead th {\n",
       "        text-align: right;\n",
       "    }\n",
       "</style>\n",
       "<table border=\"1\" class=\"dataframe\">\n",
       "  <thead>\n",
       "    <tr style=\"text-align: right;\">\n",
       "      <th></th>\n",
       "      <th>avg_trip_time_min</th>\n",
       "    </tr>\n",
       "  </thead>\n",
       "  <tbody>\n",
       "    <tr>\n",
       "      <th>0</th>\n",
       "      <td>17.0</td>\n",
       "    </tr>\n",
       "  </tbody>\n",
       "</table>\n",
       "</div>"
      ],
      "text/plain": [
       "   avg_trip_time_min\n",
       "0               17.0"
      ]
     },
     "execution_count": 73,
     "metadata": {},
     "output_type": "execute_result"
    }
   ],
   "source": [
    "%%bigquery\n",
    "SELECT \n",
    "round(avg(duration_sec)/60,1) as avg_trip_time_min\n",
    "FROM `bigquery-public-data.san_francisco.bikeshare_trips`"
   ]
  },
  {
   "cell_type": "markdown",
   "metadata": {},
   "source": [
    "The average trip is only 17 minutes, so the average user is not hitting the limit (and being charged per additional minute) regardless of subscriber group."
   ]
  },
  {
   "cell_type": "markdown",
   "metadata": {},
   "source": [
    "##### Number of trips per subscriber type"
   ]
  },
  {
   "cell_type": "code",
   "execution_count": 72,
   "metadata": {},
   "outputs": [
    {
     "name": "stderr",
     "output_type": "stream",
     "text": [
      "Query complete after 0.00s: 100%|██████████| 2/2 [00:00<00:00, 720.36query/s]                         \n",
      "Downloading: 100%|██████████| 2/2 [00:01<00:00,  1.32rows/s]\n"
     ]
    },
    {
     "data": {
      "text/html": [
       "<div>\n",
       "<style scoped>\n",
       "    .dataframe tbody tr th:only-of-type {\n",
       "        vertical-align: middle;\n",
       "    }\n",
       "\n",
       "    .dataframe tbody tr th {\n",
       "        vertical-align: top;\n",
       "    }\n",
       "\n",
       "    .dataframe thead th {\n",
       "        text-align: right;\n",
       "    }\n",
       "</style>\n",
       "<table border=\"1\" class=\"dataframe\">\n",
       "  <thead>\n",
       "    <tr style=\"text-align: right;\">\n",
       "      <th></th>\n",
       "      <th>subscriber_type</th>\n",
       "      <th>trip_freq</th>\n",
       "    </tr>\n",
       "  </thead>\n",
       "  <tbody>\n",
       "    <tr>\n",
       "      <th>0</th>\n",
       "      <td>Customer</td>\n",
       "      <td>136809</td>\n",
       "    </tr>\n",
       "    <tr>\n",
       "      <th>1</th>\n",
       "      <td>Subscriber</td>\n",
       "      <td>846839</td>\n",
       "    </tr>\n",
       "  </tbody>\n",
       "</table>\n",
       "</div>"
      ],
      "text/plain": [
       "  subscriber_type  trip_freq\n",
       "0        Customer     136809\n",
       "1      Subscriber     846839"
      ]
     },
     "execution_count": 72,
     "metadata": {},
     "output_type": "execute_result"
    }
   ],
   "source": [
    "%%bigquery\n",
    "SELECT \n",
    "subscriber_type\n",
    ", count(*) as trip_freq\n",
    "FROM `bigquery-public-data.san_francisco.bikeshare_trips`\n",
    "GROUP BY subscriber_type"
   ]
  },
  {
   "cell_type": "markdown",
   "metadata": {},
   "source": [
    "The vast majority of trips are taken by subscribers. "
   ]
  },
  {
   "cell_type": "markdown",
   "metadata": {},
   "source": [
    "##### Distribution of trip duration by subscriber type"
   ]
  },
  {
   "cell_type": "code",
   "execution_count": 74,
   "metadata": {},
   "outputs": [
    {
     "name": "stderr",
     "output_type": "stream",
     "text": [
      "Query complete after 0.00s: 100%|██████████| 1/1 [00:00<00:00, 388.72query/s] \n",
      "Downloading: 100%|██████████| 8/8 [00:01<00:00,  4.93rows/s]\n"
     ]
    }
   ],
   "source": [
    "%%bigquery df_sub_time\n",
    "\n",
    "SELECT \n",
    "subscriber_type,\n",
    "CASE\n",
    "    WHEN duration_sec/60 BETWEEN 0 AND 5 THEN '1_<= 5 Min'\n",
    "    WHEN duration_sec/60 BETWEEN 5 AND 15 THEN '2_5-15 Min'\n",
    "    WHEN duration_sec/60 BETWEEN 15 and 30 THEN '3_15-30 Min'\n",
    "    WHEN duration_sec/60 > 30 THEN '4_>30 Min'\n",
    "END AS trip_time\n",
    ",count(*) as trip_freq\n",
    "FROM `bigquery-public-data.san_francisco.bikeshare_trips` \n",
    "GROUP BY subscriber_type, trip_time\n",
    "ORDER BY subscriber_type, trip_time"
   ]
  },
  {
   "cell_type": "code",
   "execution_count": 75,
   "metadata": {},
   "outputs": [
    {
     "data": {
      "text/html": [
       "<div>\n",
       "<style scoped>\n",
       "    .dataframe tbody tr th:only-of-type {\n",
       "        vertical-align: middle;\n",
       "    }\n",
       "\n",
       "    .dataframe tbody tr th {\n",
       "        vertical-align: top;\n",
       "    }\n",
       "\n",
       "    .dataframe thead th {\n",
       "        text-align: right;\n",
       "    }\n",
       "</style>\n",
       "<table border=\"1\" class=\"dataframe\">\n",
       "  <thead>\n",
       "    <tr style=\"text-align: right;\">\n",
       "      <th></th>\n",
       "      <th>subscriber_type</th>\n",
       "      <th>trip_time</th>\n",
       "      <th>trip_freq</th>\n",
       "    </tr>\n",
       "  </thead>\n",
       "  <tbody>\n",
       "    <tr>\n",
       "      <th>0</th>\n",
       "      <td>Customer</td>\n",
       "      <td>1_&lt;= 5 Min</td>\n",
       "      <td>5281</td>\n",
       "    </tr>\n",
       "    <tr>\n",
       "      <th>1</th>\n",
       "      <td>Customer</td>\n",
       "      <td>2_5-15 Min</td>\n",
       "      <td>48255</td>\n",
       "    </tr>\n",
       "    <tr>\n",
       "      <th>2</th>\n",
       "      <td>Customer</td>\n",
       "      <td>3_15-30 Min</td>\n",
       "      <td>41260</td>\n",
       "    </tr>\n",
       "    <tr>\n",
       "      <th>3</th>\n",
       "      <td>Customer</td>\n",
       "      <td>4_&gt;30 Min</td>\n",
       "      <td>42013</td>\n",
       "    </tr>\n",
       "    <tr>\n",
       "      <th>4</th>\n",
       "      <td>Subscriber</td>\n",
       "      <td>1_&lt;= 5 Min</td>\n",
       "      <td>174798</td>\n",
       "    </tr>\n",
       "    <tr>\n",
       "      <th>5</th>\n",
       "      <td>Subscriber</td>\n",
       "      <td>2_5-15 Min</td>\n",
       "      <td>597842</td>\n",
       "    </tr>\n",
       "    <tr>\n",
       "      <th>6</th>\n",
       "      <td>Subscriber</td>\n",
       "      <td>3_15-30 Min</td>\n",
       "      <td>68875</td>\n",
       "    </tr>\n",
       "    <tr>\n",
       "      <th>7</th>\n",
       "      <td>Subscriber</td>\n",
       "      <td>4_&gt;30 Min</td>\n",
       "      <td>5324</td>\n",
       "    </tr>\n",
       "  </tbody>\n",
       "</table>\n",
       "</div>"
      ],
      "text/plain": [
       "  subscriber_type    trip_time  trip_freq\n",
       "0        Customer   1_<= 5 Min       5281\n",
       "1        Customer   2_5-15 Min      48255\n",
       "2        Customer  3_15-30 Min      41260\n",
       "3        Customer    4_>30 Min      42013\n",
       "4      Subscriber   1_<= 5 Min     174798\n",
       "5      Subscriber   2_5-15 Min     597842\n",
       "6      Subscriber  3_15-30 Min      68875\n",
       "7      Subscriber    4_>30 Min       5324"
      ]
     },
     "execution_count": 75,
     "metadata": {},
     "output_type": "execute_result"
    }
   ],
   "source": [
    "df_sub_time"
   ]
  },
  {
   "cell_type": "code",
   "execution_count": 78,
   "metadata": {},
   "outputs": [
    {
     "data": {
      "image/png": "[encoded data removed]",
      "text/plain": [
       "<Figure size 432x288 with 1 Axes>"
      ]
     },
     "metadata": {
      "needs_background": "light"
     },
     "output_type": "display_data"
    }
   ],
   "source": [
    "#Plot of trips by subscriber type and duration\n",
    "X = df_sub_time.trip_time.unique()\n",
    "sub_val = df_sub_time[df_sub_time['subscriber_type']=='Subscriber']['trip_freq'].values\n",
    "cust_val = df_sub_time[df_sub_time['subscriber_type']=='Customer']['trip_freq'].values\n",
    "  \n",
    "X_axis = np.arange(len(X))\n",
    "  \n",
    "plt.bar(X_axis - 0.2, sub_val, 0.4, label = 'Subscribers')\n",
    "plt.bar(X_axis + 0.2, cust_val, 0.4, label = 'Customers')\n",
    "  \n",
    "plt.xticks(X_axis, X)\n",
    "plt.xlabel(\"Trip Duration\")\n",
    "plt.ylabel(\"Number of Trips\")\n",
    "plt.title(\"Trip Duration Distribution by Group\")\n",
    "plt.legend()\n",
    "plt.show()"
   ]
  },
  {
   "cell_type": "markdown",
   "metadata": {},
   "source": [
    "Subscribers take short trips more frequently than customers. Refunding the flat unlock fee and retroactively charging based on mileage for rides that end in 10 minutes or less may incentivize non-subscribers to take more short trips.  \n",
    "A higher proportion of customers are taking long trips. Offering a package of rides to use within a set time frame (ex. ten 45-minute rides to use in 90 days) with time limits beyond the single use pass may appeal to users who don't bike frequently enough to want a membership but exceed the 30 minute limit when they do ride."
   ]
  },
  {
   "cell_type": "markdown",
   "metadata": {},
   "source": [
    "##### What are the most common customer trips and how long do they last?"
   ]
  },
  {
   "cell_type": "code",
   "execution_count": 79,
   "metadata": {},
   "outputs": [
    {
     "name": "stderr",
     "output_type": "stream",
     "text": [
      "Query complete after 0.00s: 100%|██████████| 1/1 [00:00<00:00, 439.89query/s] \n",
      "Downloading: 100%|██████████| 3/3 [00:01<00:00,  2.18rows/s]\n"
     ]
    }
   ],
   "source": [
    "%%bigquery cust_trips\n",
    "SELECT \n",
    "subscriber_type\n",
    ",start_station_name\n",
    ",end_station_name\n",
    ", count(*) as trip_freq\n",
    ", round(avg(duration_sec/60),1) as trip_duration_min\n",
    "FROM `bigquery-public-data.san_francisco.bikeshare_trips` \n",
    "WHERE subscriber_type = 'Customer'\n",
    "GROUP BY start_station_name, end_station_name, subscriber_type\n",
    "ORDER BY trip_freq \n",
    "DESC LIMIT 3"
   ]
  },
  {
   "cell_type": "code",
   "execution_count": 80,
   "metadata": {},
   "outputs": [
    {
     "data": {
      "text/html": [
       "<div>\n",
       "<style scoped>\n",
       "    .dataframe tbody tr th:only-of-type {\n",
       "        vertical-align: middle;\n",
       "    }\n",
       "\n",
       "    .dataframe tbody tr th {\n",
       "        vertical-align: top;\n",
       "    }\n",
       "\n",
       "    .dataframe thead th {\n",
       "        text-align: right;\n",
       "    }\n",
       "</style>\n",
       "<table border=\"1\" class=\"dataframe\">\n",
       "  <thead>\n",
       "    <tr style=\"text-align: right;\">\n",
       "      <th></th>\n",
       "      <th>subscriber_type</th>\n",
       "      <th>start_station_name</th>\n",
       "      <th>end_station_name</th>\n",
       "      <th>trip_freq</th>\n",
       "      <th>trip_duration_min</th>\n",
       "    </tr>\n",
       "  </thead>\n",
       "  <tbody>\n",
       "    <tr>\n",
       "      <th>0</th>\n",
       "      <td>Customer</td>\n",
       "      <td>Harry Bridges Plaza (Ferry Building)</td>\n",
       "      <td>Embarcadero at Sansome</td>\n",
       "      <td>3667</td>\n",
       "      <td>38.1</td>\n",
       "    </tr>\n",
       "    <tr>\n",
       "      <th>1</th>\n",
       "      <td>Customer</td>\n",
       "      <td>Embarcadero at Sansome</td>\n",
       "      <td>Embarcadero at Sansome</td>\n",
       "      <td>2545</td>\n",
       "      <td>78.7</td>\n",
       "    </tr>\n",
       "    <tr>\n",
       "      <th>2</th>\n",
       "      <td>Customer</td>\n",
       "      <td>Harry Bridges Plaza (Ferry Building)</td>\n",
       "      <td>Harry Bridges Plaza (Ferry Building)</td>\n",
       "      <td>2004</td>\n",
       "      <td>113.4</td>\n",
       "    </tr>\n",
       "  </tbody>\n",
       "</table>\n",
       "</div>"
      ],
      "text/plain": [
       "  subscriber_type                    start_station_name  \\\n",
       "0        Customer  Harry Bridges Plaza (Ferry Building)   \n",
       "1        Customer                Embarcadero at Sansome   \n",
       "2        Customer  Harry Bridges Plaza (Ferry Building)   \n",
       "\n",
       "                       end_station_name  trip_freq  trip_duration_min  \n",
       "0                Embarcadero at Sansome       3667               38.1  \n",
       "1                Embarcadero at Sansome       2545               78.7  \n",
       "2  Harry Bridges Plaza (Ferry Building)       2004              113.4  "
      ]
     },
     "execution_count": 80,
     "metadata": {},
     "output_type": "execute_result"
    }
   ],
   "source": [
    "cust_trips"
   ]
  },
  {
   "cell_type": "markdown",
   "metadata": {},
   "source": [
    "Two of the most common customer trips end at their origin station and last well beyond the 30 minute window. Offering a higher flat unlock fee coupled with a mileage-based pricing option may increase ridership among customers that use the bikes more for leisure than transport. "
   ]
  }
 ],
 "metadata": {
  "environment": {
   "name": "tf2-gpu.2-1.m78",
   "type": "gcloud",
   "uri": "gcr.io/deeplearning-platform-release/tf2-gpu.2-1:m78"
  },
  "kernelspec": {
   "display_name": "Python 3",
   "language": "python",
   "name": "python3"
  },
  "language_info": {
   "codemirror_mode": {
    "name": "ipython",
    "version": 3
   },
   "file_extension": ".py",
   "mimetype": "text/x-python",
   "name": "python",
   "nbconvert_exporter": "python",
   "pygments_lexer": "ipython3",
   "version": "3.7.10"
  }
 },
 "nbformat": 4,
 "nbformat_minor": 4
}
